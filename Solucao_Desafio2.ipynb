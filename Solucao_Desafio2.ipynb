{
 "cells": [
  {
   "cell_type": "code",
   "execution_count": 76,
   "metadata": {},
   "outputs": [],
   "source": [
    "#importando as bibliotecas para manipulação\n",
    "import pandas as pd\n",
    "import numpy as np\n",
    "import datetime\n",
    "\n",
    "#importando bibliotecas de visualização\n",
    "from matplotlib import pyplot as plt\n",
    "import seaborn as sns\n",
    "\n",
    "# importando bibliotecas para importação de data base\n",
    "import requests\n",
    "from io import StringIO\n",
    "\n",
    "## Retirar warnings\n",
    "import warnings\n",
    "warnings.filterwarnings('ignore')\n",
    "\n",
    "# importando bibliotecas para a criação dos modelos\n",
    "from sklearn.pipeline import Pipeline\n",
    "from sklearn.preprocessing import MinMaxScaler\n",
    "from sklearn.neighbors import KNeighborsClassifier\n",
    "from sklearn.tree import DecisionTreeClassifier\n",
    "from sklearn.ensemble import RandomForestClassifier\n",
    "from sklearn.svm import SVC\n",
    "from sklearn.neural_network import MLPClassifier\n",
    "\n",
    "# importando bibliotecas para métricas\n",
    "from sklearn.metrics import classification_report"
   ]
  },
  {
   "cell_type": "code",
   "execution_count": 138,
   "metadata": {},
   "outputs": [
    {
     "data": {
      "text/html": [
       "<div>\n",
       "<style scoped>\n",
       "    .dataframe tbody tr th:only-of-type {\n",
       "        vertical-align: middle;\n",
       "    }\n",
       "\n",
       "    .dataframe tbody tr th {\n",
       "        vertical-align: top;\n",
       "    }\n",
       "\n",
       "    .dataframe thead th {\n",
       "        text-align: right;\n",
       "    }\n",
       "</style>\n",
       "<table border=\"1\" class=\"dataframe\">\n",
       "  <thead>\n",
       "    <tr style=\"text-align: right;\">\n",
       "      <th></th>\n",
       "      <th>fixed acidity</th>\n",
       "      <th>volatile acidity</th>\n",
       "      <th>citric acid</th>\n",
       "      <th>residual sugar</th>\n",
       "      <th>chlorides</th>\n",
       "      <th>free sulfur dioxide</th>\n",
       "      <th>total sulfur dioxide</th>\n",
       "      <th>density</th>\n",
       "      <th>pH</th>\n",
       "      <th>sulphates</th>\n",
       "      <th>alcohol</th>\n",
       "      <th>quality</th>\n",
       "    </tr>\n",
       "  </thead>\n",
       "  <tbody>\n",
       "    <tr>\n",
       "      <th>0</th>\n",
       "      <td>7.4</td>\n",
       "      <td>0.70</td>\n",
       "      <td>0.00</td>\n",
       "      <td>1.9</td>\n",
       "      <td>0.076</td>\n",
       "      <td>11.0</td>\n",
       "      <td>34.0</td>\n",
       "      <td>0.9978</td>\n",
       "      <td>3.51</td>\n",
       "      <td>0.56</td>\n",
       "      <td>9.4</td>\n",
       "      <td>5</td>\n",
       "    </tr>\n",
       "    <tr>\n",
       "      <th>1</th>\n",
       "      <td>7.8</td>\n",
       "      <td>0.88</td>\n",
       "      <td>0.00</td>\n",
       "      <td>2.6</td>\n",
       "      <td>0.098</td>\n",
       "      <td>25.0</td>\n",
       "      <td>67.0</td>\n",
       "      <td>0.9968</td>\n",
       "      <td>3.20</td>\n",
       "      <td>0.68</td>\n",
       "      <td>9.8</td>\n",
       "      <td>5</td>\n",
       "    </tr>\n",
       "    <tr>\n",
       "      <th>2</th>\n",
       "      <td>7.8</td>\n",
       "      <td>0.76</td>\n",
       "      <td>0.04</td>\n",
       "      <td>2.3</td>\n",
       "      <td>0.092</td>\n",
       "      <td>15.0</td>\n",
       "      <td>54.0</td>\n",
       "      <td>0.9970</td>\n",
       "      <td>3.26</td>\n",
       "      <td>0.65</td>\n",
       "      <td>9.8</td>\n",
       "      <td>5</td>\n",
       "    </tr>\n",
       "    <tr>\n",
       "      <th>3</th>\n",
       "      <td>11.2</td>\n",
       "      <td>0.28</td>\n",
       "      <td>0.56</td>\n",
       "      <td>1.9</td>\n",
       "      <td>0.075</td>\n",
       "      <td>17.0</td>\n",
       "      <td>60.0</td>\n",
       "      <td>0.9980</td>\n",
       "      <td>3.16</td>\n",
       "      <td>0.58</td>\n",
       "      <td>9.8</td>\n",
       "      <td>6</td>\n",
       "    </tr>\n",
       "    <tr>\n",
       "      <th>4</th>\n",
       "      <td>7.4</td>\n",
       "      <td>0.70</td>\n",
       "      <td>0.00</td>\n",
       "      <td>1.9</td>\n",
       "      <td>0.076</td>\n",
       "      <td>11.0</td>\n",
       "      <td>34.0</td>\n",
       "      <td>0.9978</td>\n",
       "      <td>3.51</td>\n",
       "      <td>0.56</td>\n",
       "      <td>9.4</td>\n",
       "      <td>5</td>\n",
       "    </tr>\n",
       "    <tr>\n",
       "      <th>5</th>\n",
       "      <td>7.4</td>\n",
       "      <td>0.66</td>\n",
       "      <td>0.00</td>\n",
       "      <td>1.8</td>\n",
       "      <td>0.075</td>\n",
       "      <td>13.0</td>\n",
       "      <td>40.0</td>\n",
       "      <td>0.9978</td>\n",
       "      <td>3.51</td>\n",
       "      <td>0.56</td>\n",
       "      <td>9.4</td>\n",
       "      <td>5</td>\n",
       "    </tr>\n",
       "    <tr>\n",
       "      <th>6</th>\n",
       "      <td>7.9</td>\n",
       "      <td>0.60</td>\n",
       "      <td>0.06</td>\n",
       "      <td>1.6</td>\n",
       "      <td>0.069</td>\n",
       "      <td>15.0</td>\n",
       "      <td>59.0</td>\n",
       "      <td>0.9964</td>\n",
       "      <td>3.30</td>\n",
       "      <td>0.46</td>\n",
       "      <td>9.4</td>\n",
       "      <td>5</td>\n",
       "    </tr>\n",
       "    <tr>\n",
       "      <th>7</th>\n",
       "      <td>7.3</td>\n",
       "      <td>0.65</td>\n",
       "      <td>0.00</td>\n",
       "      <td>1.2</td>\n",
       "      <td>0.065</td>\n",
       "      <td>15.0</td>\n",
       "      <td>21.0</td>\n",
       "      <td>0.9946</td>\n",
       "      <td>3.39</td>\n",
       "      <td>0.47</td>\n",
       "      <td>10.0</td>\n",
       "      <td>7</td>\n",
       "    </tr>\n",
       "    <tr>\n",
       "      <th>8</th>\n",
       "      <td>7.8</td>\n",
       "      <td>0.58</td>\n",
       "      <td>0.02</td>\n",
       "      <td>2.0</td>\n",
       "      <td>0.073</td>\n",
       "      <td>9.0</td>\n",
       "      <td>18.0</td>\n",
       "      <td>0.9968</td>\n",
       "      <td>3.36</td>\n",
       "      <td>0.57</td>\n",
       "      <td>9.5</td>\n",
       "      <td>7</td>\n",
       "    </tr>\n",
       "    <tr>\n",
       "      <th>9</th>\n",
       "      <td>7.5</td>\n",
       "      <td>0.50</td>\n",
       "      <td>0.36</td>\n",
       "      <td>6.1</td>\n",
       "      <td>0.071</td>\n",
       "      <td>17.0</td>\n",
       "      <td>102.0</td>\n",
       "      <td>0.9978</td>\n",
       "      <td>3.35</td>\n",
       "      <td>0.80</td>\n",
       "      <td>10.5</td>\n",
       "      <td>5</td>\n",
       "    </tr>\n",
       "  </tbody>\n",
       "</table>\n",
       "</div>"
      ],
      "text/plain": [
       "   fixed acidity  volatile acidity  citric acid  residual sugar  chlorides  \\\n",
       "0            7.4              0.70         0.00             1.9      0.076   \n",
       "1            7.8              0.88         0.00             2.6      0.098   \n",
       "2            7.8              0.76         0.04             2.3      0.092   \n",
       "3           11.2              0.28         0.56             1.9      0.075   \n",
       "4            7.4              0.70         0.00             1.9      0.076   \n",
       "5            7.4              0.66         0.00             1.8      0.075   \n",
       "6            7.9              0.60         0.06             1.6      0.069   \n",
       "7            7.3              0.65         0.00             1.2      0.065   \n",
       "8            7.8              0.58         0.02             2.0      0.073   \n",
       "9            7.5              0.50         0.36             6.1      0.071   \n",
       "\n",
       "   free sulfur dioxide  total sulfur dioxide  density    pH  sulphates  \\\n",
       "0                 11.0                  34.0   0.9978  3.51       0.56   \n",
       "1                 25.0                  67.0   0.9968  3.20       0.68   \n",
       "2                 15.0                  54.0   0.9970  3.26       0.65   \n",
       "3                 17.0                  60.0   0.9980  3.16       0.58   \n",
       "4                 11.0                  34.0   0.9978  3.51       0.56   \n",
       "5                 13.0                  40.0   0.9978  3.51       0.56   \n",
       "6                 15.0                  59.0   0.9964  3.30       0.46   \n",
       "7                 15.0                  21.0   0.9946  3.39       0.47   \n",
       "8                  9.0                  18.0   0.9968  3.36       0.57   \n",
       "9                 17.0                 102.0   0.9978  3.35       0.80   \n",
       "\n",
       "   alcohol  quality  \n",
       "0      9.4        5  \n",
       "1      9.8        5  \n",
       "2      9.8        5  \n",
       "3      9.8        6  \n",
       "4      9.4        5  \n",
       "5      9.4        5  \n",
       "6      9.4        5  \n",
       "7     10.0        7  \n",
       "8      9.5        7  \n",
       "9     10.5        5  "
      ]
     },
     "execution_count": 138,
     "metadata": {},
     "output_type": "execute_result"
    }
   ],
   "source": [
    "orig_url='https://drive.google.com/file/d/13jSMzdwO3nZDr-n62--fO4jrE-oIG8cX/view'\n",
    "\n",
    "file_id = orig_url.split('/')[-2]\n",
    "dwn_url='https://drive.google.com/uc?export=download&id=' + file_id\n",
    "url = requests.get(dwn_url).text\n",
    "csv_raw = StringIO(url)\n",
    "df_wine = pd.read_csv(csv_raw, sep=';')\n",
    "df_wine.head(10)"
   ]
  },
  {
   "cell_type": "code",
   "execution_count": 139,
   "metadata": {},
   "outputs": [
    {
     "name": "stdout",
     "output_type": "stream",
     "text": [
      "clf_KNN: 0.564583\n",
      "clf_arvore: 0.614583\n",
      "clf_floresta: 0.656250\n",
      "clf_svm: 0.585417\n",
      "mlp: 0.600000\n"
     ]
    }
   ],
   "source": [
    "### Seguir passos de acordo com o enunciado (não conta nas questões das atividades)\n",
    "### Questões, a partir da próxima célula\n",
    "\n",
    "## Separar variáveis X e y\n",
    "X=df_wine.drop(columns=['quality'])\n",
    "y=df_wine['quality']\n",
    "\n",
    "# Normalizar os dados\n",
    "X = MinMaxScaler().fit_transform(X)\n",
    "\n",
    "\n",
    "## Para a divisão dos dados de treinamento e teste dos algoritmos utilize o valor de “random_state=1” e a proporção de 70% para treinamento e 30% para teste.\n",
    "from sklearn.model_selection import train_test_split\n",
    "X_train, X_test, y_train, y_test = train_test_split(X, y, test_size=0.3, random_state=1)\n",
    "\n",
    "## Utilize a normalização dos dados utilizando o MinMaxScaler para todos os algoritmos. \n",
    "\n",
    "\n",
    "## Definindo a função para testar os modelos\n",
    "def validaPerformanceModelos(pipelines,x_train,y_train):\n",
    "    results = []\n",
    "    names = []\n",
    "    for name, model in pipelines:\n",
    "        model.fit(X_train,y_train)\n",
    "        score = model.score(X_test, y_test)\n",
    "        results.append(score)\n",
    "        names.append(name)\n",
    "        msg = \"%s: %f\" % (name, score)\n",
    "        print(msg) \n",
    "\n",
    "# Criando pipeline para os modelos\n",
    "pipelines = []                                                                  \n",
    "pipelines.append(('clf_KNN', Pipeline([('clf_KNN',KNeighborsClassifier(n_neighbors=5))])))\n",
    "pipelines.append(('clf_arvore', Pipeline([('clf_arvore', DecisionTreeClassifier())])))\n",
    "pipelines.append(('clf_floresta', Pipeline([('clf_floresta', RandomForestClassifier(max_depth=10, random_state=1))])))\n",
    "pipelines.append(('clf_svm', Pipeline([('clf_svm',SVC(gamma='auto',kernel='rbf'))])))\n",
    "pipelines.append(('mlp', Pipeline([('mlp', MLPClassifier(alpha=1e-5, hidden_layer_sizes=(5, 5), random_state=1))])))\n",
    "                                                    \n",
    "validaPerformanceModelos(pipelines, X_train, y_train)                                                                   "
   ]
  },
  {
   "cell_type": "code",
   "execution_count": 78,
   "metadata": {},
   "outputs": [
    {
     "name": "stdout",
     "output_type": "stream",
     "text": [
      "mlp = 60%\n"
     ]
    }
   ],
   "source": [
    "## Apicando a rede MLP como mostrado no enunciado e com os mesmos dados de treinamento e teste utilizados, \n",
    "##df_mlp = scaler = MinMaxScaler().fit_transform(df_wine)\n",
    "print('mlp = 60%')"
   ]
  },
  {
   "cell_type": "code",
   "execution_count": 94,
   "metadata": {},
   "outputs": [
    {
     "data": {
      "text/plain": [
       "681"
      ]
     },
     "execution_count": 94,
     "metadata": {},
     "output_type": "execute_result"
    }
   ],
   "source": [
    "## Quantas instâncias existem para a qualidade do vinho igual a 5?\n",
    "df_wine[df_wine['quality']== 5].shape[0]"
   ]
  },
  {
   "cell_type": "code",
   "execution_count": 95,
   "metadata": {},
   "outputs": [
    {
     "data": {
      "text/plain": [
       "2.2"
      ]
     },
     "execution_count": 95,
     "metadata": {},
     "output_type": "execute_result"
    }
   ],
   "source": [
    "## Qual é a mediana para a variável \"residual sugar\"?\n",
    "df_wine[\"residual sugar\"].median()"
   ]
  },
  {
   "cell_type": "code",
   "execution_count": 141,
   "metadata": {},
   "outputs": [
    {
     "name": "stdout",
     "output_type": "stream",
     "text": [
      "clf_svm: 0.59\n"
     ]
    }
   ],
   "source": [
    "## Aplicando o algoritmo SVM para a classificação da qualidade dos vinhos com os mesmos valores anteriores\n",
    "## para treinamento e teste, qual é o valor de acurácia obtido?\n",
    "print('clf_svm: 0.59')"
   ]
  },
  {
   "cell_type": "code",
   "execution_count": 101,
   "metadata": {},
   "outputs": [
    {
     "data": {
      "text/plain": [
       "0.0"
      ]
     },
     "execution_count": 101,
     "metadata": {},
     "output_type": "execute_result"
    }
   ],
   "source": [
    "## Aplique o modelo de normalização MinMaxScaler com os valores \"default\" para os dados de entrada. \n",
    "## Qual é o menor valor para a variável \"fixed acidity\"?\n",
    "MinMaxScaler().fit_transform(df_wine[['fixed acidity','quality']]).min()"
   ]
  },
  {
   "cell_type": "code",
   "execution_count": 103,
   "metadata": {},
   "outputs": [
    {
     "name": "stdout",
     "output_type": "stream",
     "text": [
      "clf_floresta: 0.66\n"
     ]
    }
   ],
   "source": [
    "## Aplicando o algoritmo de floresta randomica com os mesmos parâmetros apresentados no enunciado e mesmos valores \n",
    "## treinamento e teste, qual é o valor da acurácia?\n",
    "print('clf_floresta: 0.66')"
   ]
  },
  {
   "cell_type": "code",
   "execution_count": 108,
   "metadata": {},
   "outputs": [
    {
     "data": {
      "text/plain": [
       "2"
      ]
     },
     "execution_count": 108,
     "metadata": {},
     "output_type": "execute_result"
    }
   ],
   "source": [
    "## Quantos tipos diferentes de dados existem no dataset do desafio?\n",
    "df_wine.dtypes.nunique()"
   ]
  },
  {
   "cell_type": "code",
   "execution_count": 109,
   "metadata": {},
   "outputs": [
    {
     "name": "stdout",
     "output_type": "stream",
     "text": [
      "clf_KNN: 0.56\n"
     ]
    }
   ],
   "source": [
    "## Após dividir o dataset utilizando o método train_test_split(entradas_normalizadas, saida, test_size=0.30, \n",
    "## random_state=1). Qual foi a acurária para o KNN?\n",
    "print('clf_KNN: 0.56')"
   ]
  },
  {
   "cell_type": "code",
   "execution_count": 110,
   "metadata": {},
   "outputs": [
    {
     "data": {
      "text/plain": [
       "1.7410963181277006"
      ]
     },
     "execution_count": 110,
     "metadata": {},
     "output_type": "execute_result"
    }
   ],
   "source": [
    "## Qual é o desvio padrão para a variável \"fixed acidity\" ?\n",
    "df_wine['fixed acidity'].std()"
   ]
  },
  {
   "cell_type": "code",
   "execution_count": 117,
   "metadata": {},
   "outputs": [
    {
     "data": {
      "text/plain": [
       "0.0"
      ]
     },
     "execution_count": 117,
     "metadata": {},
     "output_type": "execute_result"
    }
   ],
   "source": [
    "## Qual é a proporção (em %) de valores nulos existente na coluna \"residual sugar\" (resíduo de açucar)?\n",
    "df_wine['residual sugar'].isnull().sum()/df_wine.shape[0]"
   ]
  },
  {
   "cell_type": "code",
   "execution_count": 118,
   "metadata": {},
   "outputs": [
    {
     "data": {
      "text/plain": [
       "(1599, 12)"
      ]
     },
     "execution_count": 118,
     "metadata": {},
     "output_type": "execute_result"
    }
   ],
   "source": [
    "## No dataset utilizado para o desafio, quantas instâncias e atributos existem, respectivamente?\n",
    "df_wine.shape"
   ]
  },
  {
   "cell_type": "code",
   "execution_count": 126,
   "metadata": {},
   "outputs": [
    {
     "name": "stdout",
     "output_type": "stream",
     "text": [
      "          quality   alcohol\n",
      "quality  1.000000  0.476166\n",
      "alcohol  0.476166  1.000000\n",
      "Há uma correlação moderada, é possível inferir que quanto maior o teor, em certa medida, maior é a qualidade\n"
     ]
    },
    {
     "data": {
      "image/png": "[encoded data removed]",
      "text/plain": [
       "<IPython.core.display.Image object>"
      ]
     },
     "execution_count": 126,
     "metadata": {},
     "output_type": "execute_result"
    }
   ],
   "source": [
    "## Mesmo sendo reduzido, é CORRETO dizer sobre o coeficiente de correlação de Pearson entre as variáveis \"quality\" e \"alcohol\":\n",
    "\n",
    "#Quanto maior o teor alcoolico (alcohol), maior é a qualidade do vinho (quality).\n",
    "#Não é possível dizer nada sobre a correlação entre as vairáveis.\n",
    "#Para analisar correlação é necessário que o coeficiente seja superior a 1.\n",
    "#Quanto maior o teor alcoolico (alcohol), menor é a qualidade do vinho (quality).\n",
    "\n",
    "print(df_wine[[\"quality\" , \"alcohol\"]].corr(method = 'pearson'))\n",
    "print('Há uma correlação moderada, é possível inferir que quanto maior o teor, em certa medida, maior é a qualidade')\n",
    "from IPython.display import Image\n",
    "Image('dados/correlation.png')"
   ]
  },
  {
   "cell_type": "code",
   "execution_count": 128,
   "metadata": {},
   "outputs": [
    {
     "name": "stdout",
     "output_type": "stream",
     "text": [
      "               fixed acidity        pH\n",
      "fixed acidity       1.000000 -0.682978\n",
      "pH                 -0.682978  1.000000\n",
      "Existe uma correlação negativa. Quanto maior o \"fixed acidity, menor é o \"pH\".\n"
     ]
    }
   ],
   "source": [
    "## Sobre o coeficiente de correlação de Pearson entre as variáveis \"fixed acidity\" e \"pH\" é CORRETO afirmar:\n",
    "\n",
    "#Existe uma correlação positiva. Quanto maior o \"fixed acidity, menor é o \"pH\".\n",
    "#Existe uma correlação negativa. Quanto maior o \"fixed acidity, menor é o \"pH\".\n",
    "#Existe uma correlação negativa. Quanto maior o \"fixed acidity, maior é o \"pH\".\n",
    "#Existe uma correlação negativa. Quanto menor o \"fixed acidity, menor é o \"pH\".\n",
    "\n",
    "print(df_wine[[\"fixed acidity\" , \"pH\"]].corr(method = 'pearson'))\n",
    "print('Existe uma correlação negativa. Quanto maior o \"fixed acidity, menor é o \"pH\".')"
   ]
  },
  {
   "cell_type": "code",
   "execution_count": 140,
   "metadata": {},
   "outputs": [
    {
     "name": "stdout",
     "output_type": "stream",
     "text": [
      "clf_arvore: 0.61\n"
     ]
    }
   ],
   "source": [
    "## Aplicando o algoritmo de árvore de decisão com os parâmetros definidos no enunciado do desafio e a divisão de \n",
    "## treinamento e teste como mostrado, anteriormente. Qual é o valor da acurácia?\n",
    "print('clf_arvore: 0.61')"
   ]
  },
  {
   "cell_type": "code",
   "execution_count": 136,
   "metadata": {},
   "outputs": [
    {
     "name": "stdout",
     "output_type": "stream",
     "text": [
      "Acurácia:  0.7770833333333333\n"
     ]
    }
   ],
   "source": [
    "## Modifique o dataset para um sistema binário que considere vinhos com nota maior do que 5 (6, 7, 8) sejam bons e menores ou \n",
    "## igual a 5 ruins (5, 4, 3). Aplique o modelo da floresta randômica. Qual a acurácia do modelo para esse novo dataset?\n",
    "\n",
    "# converter números para categoria\n",
    "df_wine['quality'] = df_wine['quality'].replace(6, 1)\n",
    "df_wine['quality'] = df_wine['quality'].replace(7, 1)\n",
    "df_wine['quality'] = df_wine['quality'].replace(8, 1)\n",
    "df_wine['quality'] = df_wine['quality'].replace(3, 0)\n",
    "df_wine['quality'] = df_wine['quality'].replace(4, 0)\n",
    "df_wine['quality'] = df_wine['quality'].replace(5, 0)\n",
    "\n",
    "# Separar dados X e y\n",
    "X = df_wine.drop(['quality'], axis=1)\n",
    "y = df_wine['quality']\n",
    "\n",
    "\n",
    "# criar dados de treino e teste\n",
    "X_train, X_test, y_train, y_test = train_test_split(X, y, test_size = 0.3 ,random_state = 1)\n",
    "\n",
    "# criar o modelo\n",
    "clf_floresta = RandomForestClassifier(max_depth=10, random_state=1)\n",
    "clf_floresta.fit(X_train, y_train)\n",
    "\n",
    "# verificar acurácia\n",
    "score = clf_floresta.score(X_test, y_test)\n",
    "print('Acurácia: ',score)"
   ]
  }
 ],
 "metadata": {
  "kernelspec": {
   "display_name": "Python 3",
   "language": "python",
   "name": "python3"
  },
  "language_info": {
   "codemirror_mode": {
    "name": "ipython",
    "version": 3
   },
   "file_extension": ".py",
   "mimetype": "text/x-python",
   "name": "python",
   "nbconvert_exporter": "python",
   "pygments_lexer": "ipython3",
   "version": "3.7.4"
  }
 },
 "nbformat": 4,
 "nbformat_minor": 2
}
